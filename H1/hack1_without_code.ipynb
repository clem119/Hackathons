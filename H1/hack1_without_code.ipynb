{
 "cells": [
  {
   "cell_type": "markdown",
   "metadata": {},
   "source": [
    "# Hackathon 1: descriptive statistics, estimation and bootstrapping\n",
    "\n",
    "This project illustrates the course LEPL1109 with an industrial applications of statistics. You will analyse the performance of wind farms located in the Walloon Brabant near Beauvechain and in the high Fens, close to Elsenborn. Each wind farm exploits 8 wind turbines. The kinetic power, noted Pk, (in watt) of one wind turbine is calculated with the formula \n",
    "\n",
    "Pk (W) = 0.5 x Rho x S x V^3\n",
    "\n",
    "Where \n",
    "\n",
    "S   : is the surface of the circle in square meters with a radius equal to the length of blades (32 m).\n",
    "Rho : is the air density (“masse volumique”). We consider here an average value of 1.2 kg/m^3\n",
    "V   : is the speed of wind in m/s.\n",
    "\n",
    "According to the Betz limit, only 59.3% of the kinetic energy from wind can be used to spin the turbine and generate electricity. In reality, turbines cannot reach the Betz limit, and the efficiency is estimated to 42% of the kinetic power. One wind turbine generates an electric power Pe = 0.42 x Pk. \n",
    "\n",
    "The wind turbins are stopped if the wind speed is above 90 km/h.\n",
    "\n",
    "The file “BeauvechainWind.csv” and “Elsenborn.csv” contains the average daily wind speeds, measured in km/h, at Beauvechain and  Elsenborn (source www. https://www.ecad.eu/)\n",
    "\n",
    "FILE FORMAT (MISSING VALUE CODE IS -9999):\n",
    "01-06 SOUID: Source identifier\n",
    "08-15 DATE : Date YYYYMMDD\n",
    "17-21 FG   : wind speed in 0.1 m/s\n",
    "23-27 Q_FG : Quality code for FG (0='valid'; 1='suspect'; 9='missing')\n",
    "\n",
    "\n",
    "## Report content\n",
    "\n",
    "•\tGrades are granted to the members whose names are in the Jupyter notebook. If your name doesn’t appear on the top of the notebook, you’ll get a 0, even though you are in a group on Moodle.\n",
    "\n",
    "•\tThe jupyter notebook must be compiled with printed results and next submitted via moodle. The absence of compiled results (or non-printed values) leads to a lower grade.\n",
    "\n",
    "## Report submission\n",
    "\n",
    "•\tDeadline, see moodle website. Submission after the deadline will not be accepted.\n",
    "\n",
    "•\tTo submit your report, go to the section “APP” on Moodle and the subsection “Soumission du rapport”. You can upload your work there. Once you are sure that it is your final version, click the button “Envoyer le devoir”. It is important that you don’t forget to click on this button ! \n",
    "\n",
    "•\tReports that have not been uploaded through Moodle will not be corrected.\n",
    "\n",
    "\n",
    "## Names and Noma of participants:\n",
    "\n",
    "Part. 1: Théodore Cousin (NOMA: 47202000)\n",
    "\n",
    "Part. 2: Diego Troch (NOMA: 07252000)\n",
    "\n",
    "Part. 3: Alexandre Kneip (NOMA: 57132000)\n",
    "\n",
    "Part. 4:\n"
   ]
  },
  {
   "cell_type": "markdown",
   "metadata": {},
   "source": [
    "------------------------------------------------------------------------------------------------------\n",
    "1.\tWrite a function computing the electric power capacity (in Mega Watts = 10^6 W), for the two wind farms using wind data from the 1/1/2017 to the 1/1/2021\n",
    "\n",
    "•\tDo not forget to set the production to zero if the wind speed is above 90 km. \n",
    "\n",
    "•\tTake care to converts units.\n",
    "\n",
    "•\tRemove all days with missing data (error code 1 or 9) for Beauvechain or Elsenborn\n",
    "\n",
    "------------------------------------------------------------------------------------------------------"
   ]
  },
  {
   "cell_type": "code",
   "execution_count": 19,
   "metadata": {},
   "outputs": [],
   "source": [
    "#imports\n",
    "import math\n",
    "import pandas as pd\n",
    "import numpy as np\n",
    "from matplotlib import pyplot as plt\n",
    "\n",
    "def ElecPowerCapa():\n",
    "    \n",
    "    #only keep date from 20170101 to 20210101 for Beauvechain\n",
    "    Beauvechain = pd.read_csv(\"Beauvechain.csv\", sep=\",\")\n",
    "    Beauvechain=Beauvechain.loc[Beauvechain[\"    DATE\"] >= 20170101].loc[Beauvechain[\"    DATE\"] <= 20210101]\n",
    "\n",
    "    #only keep date from 20170101 to 20210101 for Elsenborn\n",
    "    Elsenborn = pd.read_csv(\"Elsenborn.csv\", sep=\",\")\n",
    "    Elsenborn=Elsenborn.loc[Elsenborn[\"    DATE\"] >= 20170101].loc[Elsenborn[\"    DATE\"] <= 20210101]\n",
    "    \n",
    "    #put all the non trusted value (!= 0) in ErrorsElsenborn and ErrorsBeauvechain\n",
    "    ErrorsElsenborn=Elsenborn.loc[Elsenborn[\" Q_FG\"] != 0] \n",
    "    ErrorsBeauvechain=Beauvechain.loc[Beauvechain[\" Q_FG\"] != 0]\n",
    "\n",
    "    #Only keep the trusted value\n",
    "    Elsenborn=Elsenborn[~Elsenborn[\"    DATE\"].isin(ErrorsBeauvechain[\"    DATE\"])]\n",
    "    Beauvechain=Beauvechain[~Beauvechain[\"    DATE\"].isin(ErrorsElsenborn[\"    DATE\"])]\n",
    "\n",
    "    #if the wind speed is higher than 90km/h then set the value in the table to 0\n",
    "    #and if the wind speed is negative, then delete the line from the file\n",
    "    Elsenborn=Elsenborn.loc[Elsenborn[\"   FG\"] >=0]\n",
    "    Elsenborn.loc[Elsenborn[\"   FG\"] > 90, \"   FG\"] = 0 \n",
    "    Beauvechain=Beauvechain.loc[Beauvechain[\"   FG\"] >=0]\n",
    "    Beauvechain.loc[Beauvechain[\"   FG\"] > 90, \"   FG\"] = 0\n",
    "\n",
    "    #constant variables\n",
    "    PI = math.pi\n",
    "    RHO = 1.2\n",
    "    S = (32**2)*PI\n",
    "    \n",
    "    #variables\n",
    "    ResBeauvechain=[]\n",
    "    ResElsenborn=[]\n",
    "\n",
    "    # for each day speed in Elsenborn, append the electric power in the final result\n",
    "    for i in Elsenborn[\"   FG\"]:\n",
    "        wSpeed = (i/3.6)**3\n",
    "        Pk=8*0.5*RHO*S*wSpeed\n",
    "        Pe = Pk*0.42 #because of the betz limit\n",
    "        Pe = Pe/(10**6) #convert  in MW\n",
    "        ResElsenborn.append(Pe) \n",
    "\n",
    "    for i in Beauvechain[\"   FG\"]:\n",
    "        wSpeed = (i/3.6)**3\n",
    "        Pk=8*0.5*RHO*S*wSpeed\n",
    "        Pe = Pk*0.42 #because of the betz limit\n",
    "        Pe = Pe/(10**6) #convert  in MW\n",
    "        ResBeauvechain.append(Pe) \n",
    "\n",
    "    #adds the value from beauvechain and elsenborn one by one\n",
    "    #power measured in W\n",
    "    FinalRes = (ResElsenborn, ResBeauvechain)\n",
    "\n",
    "    return FinalRes"
   ]
  },
  {
   "cell_type": "markdown",
   "metadata": {},
   "source": [
    "Comment briefly your results\n",
    "\n"
   ]
  },
  {
   "cell_type": "markdown",
   "metadata": {},
   "source": [
    "------------------------------------------------------------------------------------------------------------------------\n",
    "\n",
    "2.\tPlot histograms and box plots of electric power capacity (MW) from the 1/1/2017 to the 1/1/2021 (both sites). \n",
    "\n",
    "------------------------------------------------------------------------------------------------------------------------"
   ]
  },
  {
   "cell_type": "code",
   "execution_count": 20,
   "metadata": {},
   "outputs": [
    {
     "data": {
      "image/png": "[encoded data removed]",
      "text/plain": [
       "<Figure size 640x480 with 1 Axes>"
      ]
     },
     "metadata": {},
     "output_type": "display_data"
    }
   ],
   "source": [
    "r = ElecPowerCapa()\n",
    "Results=r[0]+r[1]\n",
    "\n",
    "max=np.max(Results)\n",
    "bins = [] # bins est l'argument qui permet de répartir les données en un certain nombre de barres verticales\n",
    "for i in range(50): bins.append(i*max/50) # ici, l'argument bins est une liste qui comprend 50 intervales croissant linéairement entre 0 et la puissance max\n",
    "\n",
    "plt.hist(Results, bins=bins, edgecolor='black')\n",
    "plt.xlabel(\"Electric power capacity (MW)\")\n",
    "plt.ylabel(\"Nb\") \n",
    "plt.title(\"Electric power capacity (MW) from the 1/1/2017 to the 1/1/2021\")\n",
    "plt.show()\n"
   ]
  },
  {
   "cell_type": "markdown",
   "metadata": {},
   "source": [
    "------------------------------------------------------------------------------------------------------\n",
    "\n",
    "3.\tCompare the following statistics of both sites and draw a first conclusions\n",
    "\n",
    "•\tAverage and median powers for each farm (MW)\n",
    "\n",
    "•\tStandard deviations of powers, for each farm (MW)\n",
    "\n",
    "•\t5% and 95% percentiles of powers, for each farm (MW)\n",
    "\n",
    "The average and standard deviation of the total power capacities (Beauvechain + Elsenborn).\n",
    "\n",
    "------------------------------------------------------------------------------------------------------"
   ]
  },
  {
   "cell_type": "code",
   "execution_count": 22,
   "metadata": {},
   "outputs": [
    {
     "name": "stdout",
     "output_type": "stream",
     "text": [
      "Beauvechain:\n",
      "mean: 12.887381751281266 MW\n",
      "median: 4.995450667263333 MW\n",
      "standard daviation: 18.430456924317376 MW\n",
      "5% percentile: 0.2402019855032707 MW\n",
      "95% percentile: 54.0756109922025 MW\n",
      "\n",
      "Elsenborn:\n",
      "mean: 5.650137802821235 MW\n",
      "median: 1.9216158840261657 MW\n",
      "standard daviation: 9.762008248900587 MW\n",
      "5% percentile: 0.10133521263419236 MW\n",
      "95% percentile: 23.127086422515433 MW\n",
      "\n",
      "Global:\n",
      "mean: 9.268759777051251 MW\n",
      "standard daviation: 15.184982671631241 MW\n",
      "\n"
     ]
    }
   ],
   "source": [
    "Results=ElecPowerCapa()\n",
    "x_e=Results[0]\n",
    "x_b=Results[1]\n",
    "x_global=x_b+x_e\n",
    "\n",
    "x_b.sort()\n",
    "x_e.sort()\n",
    "x_global.sort()\n",
    "\n",
    "XB_DATA = np.array(x_b)\n",
    "XE_DATA = np.array(x_e)\n",
    "XGLOBAL_DATA = np.array(x_global)\n",
    "\n",
    "# mean\n",
    "mean_b = XB_DATA.mean()\n",
    "mean_e = XE_DATA.mean()\n",
    "mean_global = XGLOBAL_DATA.mean()\n",
    "\n",
    "# median\n",
    "median_b = XB_DATA[len(XB_DATA)//2]\n",
    "median_e = XE_DATA[len(XE_DATA)//2]\n",
    "median_global = XGLOBAL_DATA[len(XGLOBAL_DATA)//2]\n",
    "\n",
    "# standard deviation\n",
    "std_dev_b = XB_DATA.std()\n",
    "std_dev_e = XE_DATA.std()\n",
    "std_dev_global = XGLOBAL_DATA.std()\n",
    "\n",
    "# 95% percentile\n",
    "quantile_95_b = np.quantile(XB_DATA, 0.95)\n",
    "quantile_95_e = np.quantile(XE_DATA, 0.95)\n",
    "quantile_95_global = np.quantile(XGLOBAL_DATA, 0.95)\n",
    "\n",
    "# 5% percentile\n",
    "quantile_05_b = np.quantile(XB_DATA, 0.05)\n",
    "quantile_05_e = np.quantile(XE_DATA, 0.05)\n",
    "quantile_05_global = np.quantile(XGLOBAL_DATA, 0.05)\n",
    "\n",
    "# answer >> output\n",
    "print(f\"Beauvechain:\\nmean: {mean_b} MW\\nmedian: {median_b} MW\\nstandard daviation: {std_dev_b} MW\\n5% percentile: {quantile_05_b} MW\\n95% percentile: {quantile_95_b} MW\\n\")\n",
    "print(f\"Elsenborn:\\nmean: {mean_e} MW\\nmedian: {median_e} MW\\nstandard daviation: {std_dev_e} MW\\n5% percentile: {quantile_05_e} MW\\n95% percentile: {quantile_95_e} MW\\n\")\n",
    "print(f\"Global:\\nmean: {mean_global} MW\\nstandard daviation: {std_dev_global} MW\\n\")"
   ]
  },
  {
   "cell_type": "markdown",
   "metadata": {},
   "source": [
    "Comment briefly your results\n",
    "\n"
   ]
  },
  {
   "cell_type": "markdown",
   "metadata": {},
   "source": [
    "\n",
    "------------------------------------------------------------------------------------------------------\n",
    "4.\tFit Gamma and Inverse Gaussian distributions to wind speeds (in Km/h) in Beauvechain and Elsenborn. Estimate their parameters by log-likelihood maximization (MLE). Which distribution is the best one? Compare the histograms of winds with the fitted pdf’s on the same plot.\n",
    "------------------------------------------------------------------------------------------------------"
   ]
  },
  {
   "cell_type": "code",
   "execution_count": null,
   "metadata": {},
   "outputs": [],
   "source": [
    "# Code here, gamma distribution\n",
    "\n"
   ]
  },
  {
   "cell_type": "markdown",
   "metadata": {},
   "source": [
    "Comment briefly your results\n",
    "\n"
   ]
  },
  {
   "cell_type": "code",
   "execution_count": null,
   "metadata": {},
   "outputs": [],
   "source": [
    "# Code here, inverse Gaussian\n",
    "\n"
   ]
  },
  {
   "cell_type": "markdown",
   "metadata": {},
   "source": [
    "Comment briefly your results\n"
   ]
  },
  {
   "cell_type": "markdown",
   "metadata": {},
   "source": [
    "------------------------------------------------------------------------------------------------------\n",
    "5.\tCompute numerically for both sites, the following statistics \n",
    "\n",
    "•\tExpected and median powers for each farm (MW)\n",
    "\n",
    "•\tStandard deviation of powers for each farm (MW)\n",
    "\n",
    "•\t5% and 95% percentiles of powers for each farm (MW)\n",
    "\n",
    "Use the best distributions fitted in Question 4 (not observed values)\n",
    "\n",
    "------------------------------------------------------------------------------------------------------"
   ]
  },
  {
   "cell_type": "code",
   "execution_count": null,
   "metadata": {},
   "outputs": [],
   "source": [
    "# Code here\n",
    "\n"
   ]
  },
  {
   "cell_type": "markdown",
   "metadata": {},
   "source": [
    "Comment briefly your results\n",
    "\n"
   ]
  },
  {
   "cell_type": "markdown",
   "metadata": {},
   "source": [
    "------------------------------------------------------------------------------------------------------\n",
    "\n",
    "6.\tSame question as Q.4 but this time, you fit the best distribution by the methods of moments MM, (in Python). Compare parameter estimates and plot pdf’s obtained by MLE and MM for both wind farms.\n",
    "\n",
    "------------------------------------------------------------------------------------------------------"
   ]
  },
  {
   "cell_type": "code",
   "execution_count": null,
   "metadata": {
    "scrolled": true
   },
   "outputs": [],
   "source": [
    "#code here\n",
    "\n"
   ]
  },
  {
   "cell_type": "markdown",
   "metadata": {},
   "source": [
    "------------------------------------------------------------------------------------------------------\n",
    "\n",
    "7.\tBootstrap 1000 times a sample of 500 daily speeds of wind for both wind farms and compute a 5% confidence interval for parameter(s) estimates for the best distribution of Question 4) modelling winds in Beauvechain. How do you interpret the results\n",
    "\n",
    "------------------------------------------------------------------------------------------------------"
   ]
  },
  {
   "cell_type": "code",
   "execution_count": null,
   "metadata": {},
   "outputs": [],
   "source": [
    "#code here\n",
    "\n"
   ]
  },
  {
   "cell_type": "markdown",
   "metadata": {},
   "source": [
    "Comment briefly your results\n",
    "\n"
   ]
  },
  {
   "cell_type": "markdown",
   "metadata": {},
   "source": [
    "------------------------------------------------------------------------------------------------------\n",
    "\n",
    "8.\tLet us denote by X the wind speed observed at Beauvechain on a day of the year. The winds observed over 30 days are denoted by (X1,…,X30). They are realizations of X, a random variable with the distribution fitted in Question 4. If M=max{ X1,…,X30},  \n",
    "\n",
    "•\tfind the statistical law of M (equation requested, hint use the cdf of X) \n",
    "\n",
    "•\tplot the pdf and cdf of M. \n",
    "\n",
    "•\tDetermine the wind value, p5, such that  P(M>p5)=95%.\n",
    "\n",
    "\n",
    "------------------------------------------------------------------------------------------------------"
   ]
  },
  {
   "cell_type": "markdown",
   "metadata": {},
   "source": [
    "Comment briefly your results\n",
    "\n"
   ]
  },
  {
   "cell_type": "code",
   "execution_count": null,
   "metadata": {},
   "outputs": [],
   "source": [
    "# Code here\n",
    "\n"
   ]
  }
 ],
 "metadata": {
  "interpreter": {
   "hash": "916dbcbb3f70747c44a77c7bcd40155683ae19c65e1c03b4aa3499c5328201f1"
  },
  "kernelspec": {
   "display_name": "Python 3.10.4 64-bit",
   "language": "python",
   "name": "python3"
  },
  "language_info": {
   "codemirror_mode": {
    "name": "ipython",
    "version": 3
   },
   "file_extension": ".py",
   "mimetype": "text/x-python",
   "name": "python",
   "nbconvert_exporter": "python",
   "pygments_lexer": "ipython3",
   "version": "3.10.4"
  }
 },
 "nbformat": 4,
 "nbformat_minor": 4
}
